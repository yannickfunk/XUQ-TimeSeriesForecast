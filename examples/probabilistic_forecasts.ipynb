{
 "cells": [
  {
   "cell_type": "code",
   "execution_count": 5,
   "id": "ffb43090-7f2b-445e-a2f9-fda907adf3e0",
   "metadata": {},
   "outputs": [],
   "source": [
    "import random\n",
    "import warnings\n",
    "\n",
    "warnings.filterwarnings(\"ignore\")\n",
    "from itertools import product\n",
    "import matplotlib.pyplot as plt\n",
    "import pandas as pd"
   ]
  },
  {
   "cell_type": "code",
   "execution_count": 4,
   "id": "c4255929-8593-4df9-9068-1b94cd2ead05",
   "metadata": {},
   "outputs": [],
   "source": [
    "def plot_grid(df_train, df_test=None, plot_random=True, model=None, level=None):\n",
    "    fig, axes = plt.subplots(4, 2, figsize=(24, 14))\n",
    "\n",
    "    unique_ids = df_train[\"unique_id\"].unique()\n",
    "\n",
    "    assert len(unique_ids) >= 8, \"Must provide at least 8 ts\"\n",
    "\n",
    "    if plot_random:\n",
    "        unique_ids = random.sample(list(unique_ids), k=8)\n",
    "    else:\n",
    "        unique_uids = unique_ids[:8]\n",
    "\n",
    "    for uid, (idx, idy) in zip(unique_ids, product(range(4), range(2))):\n",
    "        train_uid = df_train.query(\"unique_id == @uid\")\n",
    "        axes[idx, idy].plot(train_uid[\"ds\"], train_uid[\"y\"], label=\"y_train\")\n",
    "        if df_test is not None:\n",
    "            max_ds = train_uid[\"ds\"].max()\n",
    "            test_uid = df_test.query(\"unique_id == @uid\")\n",
    "            for col in [\"y\", f\"{model}-median\", \"y_test\"]:\n",
    "                if col in test_uid:\n",
    "                    axes[idx, idy].plot(test_uid[\"ds\"], test_uid[col], label=col)\n",
    "            if level is not None:\n",
    "                for l, alpha in zip(sorted(level), [0.5, 0.4, 0.35, 0.2]):\n",
    "                    axes[idx, idy].fill_between(\n",
    "                        test_uid[\"ds\"],\n",
    "                        test_uid[f\"{model}-lo-{l}\"],\n",
    "                        test_uid[f\"{model}-hi-{l}\"],\n",
    "                        alpha=alpha,\n",
    "                        color=\"orange\",\n",
    "                        label=f\"{model}_level_{l}\",\n",
    "                    )\n",
    "        axes[idx, idy].set_title(f\"M4 Hourly: {uid}\")\n",
    "        axes[idx, idy].set_xlabel(\"Timestamp [t]\")\n",
    "        axes[idx, idy].set_ylabel(\"Target\")\n",
    "        axes[idx, idy].legend(loc=\"upper left\")\n",
    "        axes[idx, idy].xaxis.set_major_locator(plt.MaxNLocator(20))\n",
    "        axes[idx, idy].grid()\n",
    "    fig.subplots_adjust(hspace=0.5)\n",
    "    plt.show()"
   ]
  },
  {
   "cell_type": "code",
   "execution_count": null,
   "id": "dce8cb4d-a816-4e4f-99b7-5c8155cb61e4",
   "metadata": {},
   "outputs": [],
   "source": []
  }
 ],
 "metadata": {
  "kernelspec": {
   "display_name": "XUQ-TimeSeriesForecast",
   "language": "python",
   "name": "xuq-timeseriesforecast"
  },
  "language_info": {
   "codemirror_mode": {
    "name": "ipython",
    "version": 3
   },
   "file_extension": ".py",
   "mimetype": "text/x-python",
   "name": "python",
   "nbconvert_exporter": "python",
   "pygments_lexer": "ipython3",
   "version": "3.10.14"
  }
 },
 "nbformat": 4,
 "nbformat_minor": 5
}
